{
 "cells": [
  {
   "cell_type": "markdown",
   "id": "ee15c76a",
   "metadata": {},
   "source": [
    "# Projeto - Emissões de gases de efeito estufa no Brasil\n",
    "\n"
   ]
  },
  {
   "cell_type": "markdown",
   "id": "ba90a313",
   "metadata": {},
   "source": [
    "* Objetivo do Projeto: Qual atividade econômica brasileira irá afetar mais com o esfeito estufa entre os anos de 2018 e 2030? E qual delas irá minimizar mais esses impactos?\n",
    "\n",
    "* Descrição do projeto: A partir da análise de dados qualitativos e quantitativos, o projeto objetiva prever qual atividade econômica brasileira irá afetar mais com o esfeito estufa entre os anos de 2018 e 2030. Utilizaremos como forma de mensurar o impacto de cada uma levando em consideração, tanto a quantidade de gás emitido, quanto o tipo e reações dele. Utilizaremos como forma de prever, as tendências de crescimento de cada área, tais como aumento percentual da emissão de um certo gás em uma certa atividade específica ou sua restituição. "
   ]
  },
  {
   "cell_type": "markdown",
   "id": "74d12d6e",
   "metadata": {},
   "source": [
    " fonte: https://basedosdados.org"
   ]
  },
  {
   "cell_type": "code",
   "execution_count": 3,
   "id": "a947d175",
   "metadata": {},
   "outputs": [],
   "source": [
    "\n",
    "import pandas as pd\n",
    "import numpy as np\n",
    "from scipy.stats import norm, probplot\n",
    "import statsmodels.api as sm\n",
    "import matplotlib.pyplot as plt"
   ]
  },
  {
   "cell_type": "code",
   "execution_count": 4,
   "id": "5675f2f8",
   "metadata": {
    "scrolled": true
   },
   "outputs": [],
   "source": [
    "dados =pd.read_csv('dados_basedosdados.csv')"
   ]
  },
  {
   "cell_type": "code",
   "execution_count": 5,
   "id": "8425256a",
   "metadata": {},
   "outputs": [
    {
     "data": {
      "text/html": [
       "<div>\n",
       "<style scoped>\n",
       "    .dataframe tbody tr th:only-of-type {\n",
       "        vertical-align: middle;\n",
       "    }\n",
       "\n",
       "    .dataframe tbody tr th {\n",
       "        vertical-align: top;\n",
       "    }\n",
       "\n",
       "    .dataframe thead th {\n",
       "        text-align: right;\n",
       "    }\n",
       "</style>\n",
       "<table border=\"1\" class=\"dataframe\">\n",
       "  <thead>\n",
       "    <tr style=\"text-align: right;\">\n",
       "      <th></th>\n",
       "      <th>ano</th>\n",
       "      <th>nivel_1</th>\n",
       "      <th>nivel_2</th>\n",
       "      <th>nivel_3</th>\n",
       "      <th>nivel_4</th>\n",
       "      <th>nivel_5</th>\n",
       "      <th>nivel_6</th>\n",
       "      <th>tipo_emissao</th>\n",
       "      <th>gas</th>\n",
       "      <th>atividade_economica</th>\n",
       "      <th>produto</th>\n",
       "      <th>emissao</th>\n",
       "    </tr>\n",
       "  </thead>\n",
       "  <tbody>\n",
       "    <tr>\n",
       "      <th>0</th>\n",
       "      <td>1970</td>\n",
       "      <td>Agropecuária</td>\n",
       "      <td>Cultivo do Arroz</td>\n",
       "      <td>Diretas</td>\n",
       "      <td>Outros</td>\n",
       "      <td>Vegetal</td>\n",
       "      <td>Arroz</td>\n",
       "      <td>Emissão</td>\n",
       "      <td>CH4 (t)</td>\n",
       "      <td>NaN</td>\n",
       "      <td>NaN</td>\n",
       "      <td>230462.17</td>\n",
       "    </tr>\n",
       "    <tr>\n",
       "      <th>1</th>\n",
       "      <td>1971</td>\n",
       "      <td>Agropecuária</td>\n",
       "      <td>Cultivo do Arroz</td>\n",
       "      <td>Diretas</td>\n",
       "      <td>Outros</td>\n",
       "      <td>Vegetal</td>\n",
       "      <td>Arroz</td>\n",
       "      <td>Emissão</td>\n",
       "      <td>CH4 (t)</td>\n",
       "      <td>NaN</td>\n",
       "      <td>NaN</td>\n",
       "      <td>226016.30</td>\n",
       "    </tr>\n",
       "    <tr>\n",
       "      <th>2</th>\n",
       "      <td>1972</td>\n",
       "      <td>Agropecuária</td>\n",
       "      <td>Cultivo do Arroz</td>\n",
       "      <td>Diretas</td>\n",
       "      <td>Outros</td>\n",
       "      <td>Vegetal</td>\n",
       "      <td>Arroz</td>\n",
       "      <td>Emissão</td>\n",
       "      <td>CH4 (t)</td>\n",
       "      <td>NaN</td>\n",
       "      <td>NaN</td>\n",
       "      <td>220101.20</td>\n",
       "    </tr>\n",
       "    <tr>\n",
       "      <th>3</th>\n",
       "      <td>1973</td>\n",
       "      <td>Agropecuária</td>\n",
       "      <td>Cultivo do Arroz</td>\n",
       "      <td>Diretas</td>\n",
       "      <td>Outros</td>\n",
       "      <td>Vegetal</td>\n",
       "      <td>Arroz</td>\n",
       "      <td>Emissão</td>\n",
       "      <td>CH4 (t)</td>\n",
       "      <td>NaN</td>\n",
       "      <td>NaN</td>\n",
       "      <td>214195.56</td>\n",
       "    </tr>\n",
       "    <tr>\n",
       "      <th>4</th>\n",
       "      <td>1974</td>\n",
       "      <td>Agropecuária</td>\n",
       "      <td>Cultivo do Arroz</td>\n",
       "      <td>Diretas</td>\n",
       "      <td>Outros</td>\n",
       "      <td>Vegetal</td>\n",
       "      <td>Arroz</td>\n",
       "      <td>Emissão</td>\n",
       "      <td>CH4 (t)</td>\n",
       "      <td>NaN</td>\n",
       "      <td>NaN</td>\n",
       "      <td>186862.84</td>\n",
       "    </tr>\n",
       "  </tbody>\n",
       "</table>\n",
       "</div>"
      ],
      "text/plain": [
       "    ano       nivel_1           nivel_2  nivel_3 nivel_4  nivel_5 nivel_6  \\\n",
       "0  1970  Agropecuária  Cultivo do Arroz  Diretas  Outros  Vegetal   Arroz   \n",
       "1  1971  Agropecuária  Cultivo do Arroz  Diretas  Outros  Vegetal   Arroz   \n",
       "2  1972  Agropecuária  Cultivo do Arroz  Diretas  Outros  Vegetal   Arroz   \n",
       "3  1973  Agropecuária  Cultivo do Arroz  Diretas  Outros  Vegetal   Arroz   \n",
       "4  1974  Agropecuária  Cultivo do Arroz  Diretas  Outros  Vegetal   Arroz   \n",
       "\n",
       "  tipo_emissao      gas atividade_economica produto    emissao  \n",
       "0      Emissão  CH4 (t)                 NaN     NaN  230462.17  \n",
       "1      Emissão  CH4 (t)                 NaN     NaN  226016.30  \n",
       "2      Emissão  CH4 (t)                 NaN     NaN  220101.20  \n",
       "3      Emissão  CH4 (t)                 NaN     NaN  214195.56  \n",
       "4      Emissão  CH4 (t)                 NaN     NaN  186862.84  "
      ]
     },
     "execution_count": 5,
     "metadata": {},
     "output_type": "execute_result"
    }
   ],
   "source": [
    "dados.head()"
   ]
  },
  {
   "cell_type": "code",
   "execution_count": 8,
   "metadata": {},
   "outputs": [
    {
     "data": {
      "text/plain": [
       "ano                       int64\n",
       "setor                    object\n",
       "processo_emissor         object\n",
       "forma_emissao            object\n",
       "processo_especifico      object\n",
       "tipo_atividade           object\n",
       "atividade_especifica     object\n",
       "tipo_emissao             object\n",
       "gas                      object\n",
       "atividade_economica      object\n",
       "produto                  object\n",
       "emissao                 float64\n",
       "dtype: object"
      ]
     },
     "execution_count": 8,
     "metadata": {},
     "output_type": "execute_result"
    }
   ],
   "source": [
    "dados.dtypes"
   ]
  },
  {
   "cell_type": "code",
   "execution_count": 6,
   "id": "6ee13f8e",
   "metadata": {},
   "outputs": [],
   "source": [
    "#Renomeando Variáveis\n",
    "dados = dados.rename(columns={'nivel_1': 'setor'})\n",
    "dados = dados.rename(columns={'nivel_2': 'processo_emissor'})\n",
    "dados = dados.rename(columns={'nivel_3': 'forma_emissao'})\n",
    "dados = dados.rename(columns={'nivel_4': 'processo_especifico'})\n",
    "dados = dados.rename(columns={'nivel_5': 'tipo_atividade'})\n",
    "dados = dados.rename(columns={'nivel_6': 'atividade_especifica'})"
   ]
  },
  {
   "cell_type": "code",
   "execution_count": 7,
   "id": "5e810362",
   "metadata": {},
   "outputs": [
    {
     "data": {
      "text/html": [
       "<div>\n",
       "<style scoped>\n",
       "    .dataframe tbody tr th:only-of-type {\n",
       "        vertical-align: middle;\n",
       "    }\n",
       "\n",
       "    .dataframe tbody tr th {\n",
       "        vertical-align: top;\n",
       "    }\n",
       "\n",
       "    .dataframe thead th {\n",
       "        text-align: right;\n",
       "    }\n",
       "</style>\n",
       "<table border=\"1\" class=\"dataframe\">\n",
       "  <thead>\n",
       "    <tr style=\"text-align: right;\">\n",
       "      <th></th>\n",
       "      <th>ano</th>\n",
       "      <th>setor</th>\n",
       "      <th>processo_emissor</th>\n",
       "      <th>forma_emissao</th>\n",
       "      <th>processo_especifico</th>\n",
       "      <th>tipo_atividade</th>\n",
       "      <th>atividade_especifica</th>\n",
       "      <th>tipo_emissao</th>\n",
       "      <th>gas</th>\n",
       "      <th>atividade_economica</th>\n",
       "      <th>produto</th>\n",
       "      <th>emissao</th>\n",
       "    </tr>\n",
       "  </thead>\n",
       "  <tbody>\n",
       "    <tr>\n",
       "      <th>0</th>\n",
       "      <td>1970</td>\n",
       "      <td>Agropecuária</td>\n",
       "      <td>Cultivo do Arroz</td>\n",
       "      <td>Diretas</td>\n",
       "      <td>Outros</td>\n",
       "      <td>Vegetal</td>\n",
       "      <td>Arroz</td>\n",
       "      <td>Emissão</td>\n",
       "      <td>CH4 (t)</td>\n",
       "      <td>NaN</td>\n",
       "      <td>NaN</td>\n",
       "      <td>230462.17</td>\n",
       "    </tr>\n",
       "    <tr>\n",
       "      <th>1</th>\n",
       "      <td>1971</td>\n",
       "      <td>Agropecuária</td>\n",
       "      <td>Cultivo do Arroz</td>\n",
       "      <td>Diretas</td>\n",
       "      <td>Outros</td>\n",
       "      <td>Vegetal</td>\n",
       "      <td>Arroz</td>\n",
       "      <td>Emissão</td>\n",
       "      <td>CH4 (t)</td>\n",
       "      <td>NaN</td>\n",
       "      <td>NaN</td>\n",
       "      <td>226016.30</td>\n",
       "    </tr>\n",
       "    <tr>\n",
       "      <th>2</th>\n",
       "      <td>1972</td>\n",
       "      <td>Agropecuária</td>\n",
       "      <td>Cultivo do Arroz</td>\n",
       "      <td>Diretas</td>\n",
       "      <td>Outros</td>\n",
       "      <td>Vegetal</td>\n",
       "      <td>Arroz</td>\n",
       "      <td>Emissão</td>\n",
       "      <td>CH4 (t)</td>\n",
       "      <td>NaN</td>\n",
       "      <td>NaN</td>\n",
       "      <td>220101.20</td>\n",
       "    </tr>\n",
       "    <tr>\n",
       "      <th>3</th>\n",
       "      <td>1973</td>\n",
       "      <td>Agropecuária</td>\n",
       "      <td>Cultivo do Arroz</td>\n",
       "      <td>Diretas</td>\n",
       "      <td>Outros</td>\n",
       "      <td>Vegetal</td>\n",
       "      <td>Arroz</td>\n",
       "      <td>Emissão</td>\n",
       "      <td>CH4 (t)</td>\n",
       "      <td>NaN</td>\n",
       "      <td>NaN</td>\n",
       "      <td>214195.56</td>\n",
       "    </tr>\n",
       "    <tr>\n",
       "      <th>4</th>\n",
       "      <td>1974</td>\n",
       "      <td>Agropecuária</td>\n",
       "      <td>Cultivo do Arroz</td>\n",
       "      <td>Diretas</td>\n",
       "      <td>Outros</td>\n",
       "      <td>Vegetal</td>\n",
       "      <td>Arroz</td>\n",
       "      <td>Emissão</td>\n",
       "      <td>CH4 (t)</td>\n",
       "      <td>NaN</td>\n",
       "      <td>NaN</td>\n",
       "      <td>186862.84</td>\n",
       "    </tr>\n",
       "  </tbody>\n",
       "</table>\n",
       "</div>"
      ],
      "text/plain": [
       "    ano         setor  processo_emissor forma_emissao processo_especifico  \\\n",
       "0  1970  Agropecuária  Cultivo do Arroz       Diretas              Outros   \n",
       "1  1971  Agropecuária  Cultivo do Arroz       Diretas              Outros   \n",
       "2  1972  Agropecuária  Cultivo do Arroz       Diretas              Outros   \n",
       "3  1973  Agropecuária  Cultivo do Arroz       Diretas              Outros   \n",
       "4  1974  Agropecuária  Cultivo do Arroz       Diretas              Outros   \n",
       "\n",
       "  tipo_atividade atividade_especifica tipo_emissao      gas  \\\n",
       "0        Vegetal                Arroz      Emissão  CH4 (t)   \n",
       "1        Vegetal                Arroz      Emissão  CH4 (t)   \n",
       "2        Vegetal                Arroz      Emissão  CH4 (t)   \n",
       "3        Vegetal                Arroz      Emissão  CH4 (t)   \n",
       "4        Vegetal                Arroz      Emissão  CH4 (t)   \n",
       "\n",
       "  atividade_economica produto    emissao  \n",
       "0                 NaN     NaN  230462.17  \n",
       "1                 NaN     NaN  226016.30  \n",
       "2                 NaN     NaN  220101.20  \n",
       "3                 NaN     NaN  214195.56  \n",
       "4                 NaN     NaN  186862.84  "
      ]
     },
     "execution_count": 7,
     "metadata": {},
     "output_type": "execute_result"
    }
   ],
   "source": [
    "#Tabela atualizada com novas nomenclaturas\n",
    "dados.head()"
   ]
  },
  {
   "cell_type": "code",
   "execution_count": 32,
   "id": "b6b44b53",
   "metadata": {},
   "outputs": [
    {
     "data": {
      "text/html": [
       "<div>\n",
       "<style scoped>\n",
       "    .dataframe tbody tr th:only-of-type {\n",
       "        vertical-align: middle;\n",
       "    }\n",
       "\n",
       "    .dataframe tbody tr th {\n",
       "        vertical-align: top;\n",
       "    }\n",
       "\n",
       "    .dataframe thead th {\n",
       "        text-align: right;\n",
       "    }\n",
       "</style>\n",
       "<table border=\"1\" class=\"dataframe\">\n",
       "  <thead>\n",
       "    <tr style=\"text-align: right;\">\n",
       "      <th></th>\n",
       "      <th>setor</th>\n",
       "    </tr>\n",
       "  </thead>\n",
       "  <tbody>\n",
       "    <tr>\n",
       "      <th>Energia</th>\n",
       "      <td>59.0</td>\n",
       "    </tr>\n",
       "    <tr>\n",
       "      <th>Mudança de Uso da Terra e Floresta</th>\n",
       "      <td>28.4</td>\n",
       "    </tr>\n",
       "    <tr>\n",
       "      <th>Agropecuária</th>\n",
       "      <td>7.2</td>\n",
       "    </tr>\n",
       "    <tr>\n",
       "      <th>Processos Industriais</th>\n",
       "      <td>4.1</td>\n",
       "    </tr>\n",
       "    <tr>\n",
       "      <th>Resíduos</th>\n",
       "      <td>1.3</td>\n",
       "    </tr>\n",
       "  </tbody>\n",
       "</table>\n",
       "</div>"
      ],
      "text/plain": [
       "                                    setor\n",
       "Energia                              59.0\n",
       "Mudança de Uso da Terra e Floresta   28.4\n",
       "Agropecuária                          7.2\n",
       "Processos Industriais                 4.1\n",
       "Resíduos                              1.3"
      ]
     },
     "execution_count": 32,
     "metadata": {},
     "output_type": "execute_result"
    }
   ],
   "source": [
    "dados.setor.value_counts(normalize=True).to_frame().round(3)*100 "
   ]
  },
  {
   "cell_type": "code",
   "execution_count": 33,
   "id": "b8e16ee6",
   "metadata": {},
   "outputs": [
    {
     "data": {
      "text/plain": [
       "Text(0.5, 1.0, 'Maior Setor emissor de gases por ano de 1970 até 2018')"
      ]
     },
     "execution_count": 33,
     "metadata": {},
     "output_type": "execute_result"
    },
    {
     "data": {
      "image/png": "[encoded data removed]",
      "text/plain": [
       "<Figure size 1000x500 with 1 Axes>"
      ]
     },
     "metadata": {},
     "output_type": "display_data"
    }
   ],
   "source": [
    "dados.boxplot('emissao',by = 'setor',figsize=(10,5))\n",
    "plt.title('Maior Setor emissor de gases por ano de 1970 até 2018')"
   ]
  },
  {
   "cell_type": "code",
   "execution_count": 34,
   "id": "473ab957",
   "metadata": {},
   "outputs": [
    {
     "data": {
      "text/html": [
       "<div>\n",
       "<style scoped>\n",
       "    .dataframe tbody tr th:only-of-type {\n",
       "        vertical-align: middle;\n",
       "    }\n",
       "\n",
       "    .dataframe tbody tr th {\n",
       "        vertical-align: top;\n",
       "    }\n",
       "\n",
       "    .dataframe thead th {\n",
       "        text-align: right;\n",
       "    }\n",
       "</style>\n",
       "<table border=\"1\" class=\"dataframe\">\n",
       "  <thead>\n",
       "    <tr style=\"text-align: right;\">\n",
       "      <th></th>\n",
       "      <th>produto</th>\n",
       "    </tr>\n",
       "  </thead>\n",
       "  <tbody>\n",
       "    <tr>\n",
       "      <th>NÃO SE APLICA</th>\n",
       "      <td>48.1</td>\n",
       "    </tr>\n",
       "    <tr>\n",
       "      <th>ENE_ELET</th>\n",
       "      <td>29.3</td>\n",
       "    </tr>\n",
       "    <tr>\n",
       "      <th>ACO</th>\n",
       "      <td>8.3</td>\n",
       "    </tr>\n",
       "    <tr>\n",
       "      <th>ALIM_BEBIDAS</th>\n",
       "      <td>8.0</td>\n",
       "    </tr>\n",
       "    <tr>\n",
       "      <th>ALU</th>\n",
       "      <td>2.9</td>\n",
       "    </tr>\n",
       "    <tr>\n",
       "      <th>CAR</th>\n",
       "      <td>2.1</td>\n",
       "    </tr>\n",
       "    <tr>\n",
       "      <th>LEI</th>\n",
       "      <td>0.8</td>\n",
       "    </tr>\n",
       "    <tr>\n",
       "      <th>CAR/LEI/ALIM_BEBIDAS</th>\n",
       "      <td>0.4</td>\n",
       "    </tr>\n",
       "  </tbody>\n",
       "</table>\n",
       "</div>"
      ],
      "text/plain": [
       "                      produto\n",
       "NÃO SE APLICA            48.1\n",
       "ENE_ELET                 29.3\n",
       "ACO                       8.3\n",
       "ALIM_BEBIDAS              8.0\n",
       "ALU                       2.9\n",
       "CAR                       2.1\n",
       "LEI                       0.8\n",
       "CAR/LEI/ALIM_BEBIDAS      0.4"
      ]
     },
     "execution_count": 34,
     "metadata": {},
     "output_type": "execute_result"
    }
   ],
   "source": [
    "# Não é muito útil devemos usar?\n",
    "\n",
    "dados.produto.value_counts(normalize=True).to_frame().round(3)*100 "
   ]
  },
  {
   "cell_type": "code",
   "execution_count": 35,
   "id": "6d9054b8",
   "metadata": {},
   "outputs": [
    {
     "data": {
      "text/html": [
       "<div>\n",
       "<style scoped>\n",
       "    .dataframe tbody tr th:only-of-type {\n",
       "        vertical-align: middle;\n",
       "    }\n",
       "\n",
       "    .dataframe tbody tr th {\n",
       "        vertical-align: top;\n",
       "    }\n",
       "\n",
       "    .dataframe thead th {\n",
       "        text-align: right;\n",
       "    }\n",
       "</style>\n",
       "<table border=\"1\" class=\"dataframe\">\n",
       "  <thead>\n",
       "    <tr style=\"text-align: right;\">\n",
       "      <th></th>\n",
       "      <th>forma_emissao</th>\n",
       "    </tr>\n",
       "  </thead>\n",
       "  <tbody>\n",
       "    <tr>\n",
       "      <th>Industrial</th>\n",
       "      <td>38.6</td>\n",
       "    </tr>\n",
       "    <tr>\n",
       "      <th>Produção de Combustíveis</th>\n",
       "      <td>6.3</td>\n",
       "    </tr>\n",
       "    <tr>\n",
       "      <th>Mata Atlântica</th>\n",
       "      <td>5.4</td>\n",
       "    </tr>\n",
       "    <tr>\n",
       "      <th>Pampa</th>\n",
       "      <td>5.1</td>\n",
       "    </tr>\n",
       "    <tr>\n",
       "      <th>Cerrado</th>\n",
       "      <td>5.1</td>\n",
       "    </tr>\n",
       "    <tr>\n",
       "      <th>...</th>\n",
       "      <td>...</td>\n",
       "    </tr>\n",
       "    <tr>\n",
       "      <th>Produção de Poliestireno</th>\n",
       "      <td>0.0</td>\n",
       "    </tr>\n",
       "    <tr>\n",
       "      <th>Produção de Polietileno PEAD</th>\n",
       "      <td>0.0</td>\n",
       "    </tr>\n",
       "    <tr>\n",
       "      <th>Produção de Polietileno PEBD</th>\n",
       "      <td>0.0</td>\n",
       "    </tr>\n",
       "    <tr>\n",
       "      <th>Produção de Propeno</th>\n",
       "      <td>0.0</td>\n",
       "    </tr>\n",
       "    <tr>\n",
       "      <th>Produção de Etilbenzeno</th>\n",
       "      <td>0.0</td>\n",
       "    </tr>\n",
       "  </tbody>\n",
       "</table>\n",
       "<p>61 rows × 1 columns</p>\n",
       "</div>"
      ],
      "text/plain": [
       "                              forma_emissao\n",
       "Industrial                             38.6\n",
       "Produção de Combustíveis                6.3\n",
       "Mata Atlântica                          5.4\n",
       "Pampa                                   5.1\n",
       "Cerrado                                 5.1\n",
       "...                                     ...\n",
       "Produção de Poliestireno                0.0\n",
       "Produção de Polietileno PEAD            0.0\n",
       "Produção de Polietileno PEBD            0.0\n",
       "Produção de Propeno                     0.0\n",
       "Produção de Etilbenzeno                 0.0\n",
       "\n",
       "[61 rows x 1 columns]"
      ]
     },
     "execution_count": 35,
     "metadata": {},
     "output_type": "execute_result"
    }
   ],
   "source": [
    "# Rever o boxplot\n",
    "\n",
    "dados.forma_emissao.value_counts(normalize=True).to_frame().round(3)*100 "
   ]
  },
  {
   "cell_type": "code",
   "execution_count": 36,
   "id": "e9c69add",
   "metadata": {},
   "outputs": [
    {
     "data": {
      "text/plain": [
       "Text(0.5, 1.0, 'Maior forma de emissão de gases por ano de 1970 até 2018')"
      ]
     },
     "execution_count": 36,
     "metadata": {},
     "output_type": "execute_result"
    },
    {
     "data": {
      "image/png": "[encoded data removed]",
      "text/plain": [
       "<Figure size 1000x500 with 1 Axes>"
      ]
     },
     "metadata": {},
     "output_type": "display_data"
    }
   ],
   "source": [
    "dados.boxplot('emissao',by = 'forma_emissao',figsize=(10,5))\n",
    "plt.title('Maior forma de emissão de gases por ano de 1970 até 2018')"
   ]
  },
  {
   "cell_type": "code",
   "execution_count": 37,
   "id": "0011f2dc",
   "metadata": {},
   "outputs": [
    {
     "data": {
      "text/html": [
       "<div>\n",
       "<style scoped>\n",
       "    .dataframe tbody tr th:only-of-type {\n",
       "        vertical-align: middle;\n",
       "    }\n",
       "\n",
       "    .dataframe tbody tr th {\n",
       "        vertical-align: top;\n",
       "    }\n",
       "\n",
       "    .dataframe thead th {\n",
       "        text-align: right;\n",
       "    }\n",
       "</style>\n",
       "<table border=\"1\" class=\"dataframe\">\n",
       "  <thead>\n",
       "    <tr style=\"text-align: right;\">\n",
       "      <th></th>\n",
       "      <th>processo_emissor</th>\n",
       "    </tr>\n",
       "  </thead>\n",
       "  <tbody>\n",
       "    <tr>\n",
       "      <th>Emissões pela Queima de Combustíveis</th>\n",
       "      <td>0.586457</td>\n",
       "    </tr>\n",
       "    <tr>\n",
       "      <th>Alterações de Uso do Solo</th>\n",
       "      <td>0.165439</td>\n",
       "    </tr>\n",
       "    <tr>\n",
       "      <th>Solos Manejados</th>\n",
       "      <td>0.053864</td>\n",
       "    </tr>\n",
       "    <tr>\n",
       "      <th>Remoção por Mudança de Uso da Terra</th>\n",
       "      <td>0.053864</td>\n",
       "    </tr>\n",
       "    <tr>\n",
       "      <th>Remoção por Vegetação Secundária</th>\n",
       "      <td>0.040013</td>\n",
       "    </tr>\n",
       "    <tr>\n",
       "      <th>Produção de Metais</th>\n",
       "      <td>0.019567</td>\n",
       "    </tr>\n",
       "    <tr>\n",
       "      <th>Remoção em Áreas Protegidas</th>\n",
       "      <td>0.013851</td>\n",
       "    </tr>\n",
       "    <tr>\n",
       "      <th>Indústria Química</th>\n",
       "      <td>0.012971</td>\n",
       "    </tr>\n",
       "    <tr>\n",
       "      <th>Resíduos Florestais</th>\n",
       "      <td>0.010553</td>\n",
       "    </tr>\n",
       "    <tr>\n",
       "      <th>Manejo de Dejetos Animais</th>\n",
       "      <td>0.008135</td>\n",
       "    </tr>\n",
       "    <tr>\n",
       "      <th>Fermentação Entérica</th>\n",
       "      <td>0.006925</td>\n",
       "    </tr>\n",
       "    <tr>\n",
       "      <th>Resíduos Sólidos</th>\n",
       "      <td>0.006596</td>\n",
       "    </tr>\n",
       "    <tr>\n",
       "      <th>Efluentes Liquidos</th>\n",
       "      <td>0.006266</td>\n",
       "    </tr>\n",
       "    <tr>\n",
       "      <th>Produtos Minerais</th>\n",
       "      <td>0.005386</td>\n",
       "    </tr>\n",
       "    <tr>\n",
       "      <th>Emissões Fugitivas</th>\n",
       "      <td>0.003847</td>\n",
       "    </tr>\n",
       "    <tr>\n",
       "      <th>Queima de Resíduos Agrícolas</th>\n",
       "      <td>0.002199</td>\n",
       "    </tr>\n",
       "    <tr>\n",
       "      <th>Emissões de HFCs</th>\n",
       "      <td>0.001319</td>\n",
       "    </tr>\n",
       "    <tr>\n",
       "      <th>Uso Não-Energético de Combustíveis e Uso de Solventes</th>\n",
       "      <td>0.001209</td>\n",
       "    </tr>\n",
       "    <tr>\n",
       "      <th>Uso de SF6</th>\n",
       "      <td>0.000769</td>\n",
       "    </tr>\n",
       "    <tr>\n",
       "      <th>Cultivo do Arroz</th>\n",
       "      <td>0.000769</td>\n",
       "    </tr>\n",
       "  </tbody>\n",
       "</table>\n",
       "</div>"
      ],
      "text/plain": [
       "                                                    processo_emissor\n",
       "Emissões pela Queima de Combustíveis                        0.586457\n",
       "Alterações de Uso do Solo                                   0.165439\n",
       "Solos Manejados                                             0.053864\n",
       "Remoção por Mudança de Uso da Terra                         0.053864\n",
       "Remoção por Vegetação Secundária                            0.040013\n",
       "Produção de Metais                                          0.019567\n",
       "Remoção em Áreas Protegidas                                 0.013851\n",
       "Indústria Química                                           0.012971\n",
       "Resíduos Florestais                                         0.010553\n",
       "Manejo de Dejetos Animais                                   0.008135\n",
       "Fermentação Entérica                                        0.006925\n",
       "Resíduos Sólidos                                            0.006596\n",
       "Efluentes Liquidos                                          0.006266\n",
       "Produtos Minerais                                           0.005386\n",
       "Emissões Fugitivas                                          0.003847\n",
       "Queima de Resíduos Agrícolas                                0.002199\n",
       "Emissões de HFCs                                            0.001319\n",
       "Uso Não-Energético de Combustíveis e Uso de Sol...          0.001209\n",
       "Uso de SF6                                                  0.000769\n",
       "Cultivo do Arroz                                            0.000769"
      ]
     },
     "execution_count": 37,
     "metadata": {},
     "output_type": "execute_result"
    }
   ],
   "source": [
    "dados.processo_emissor.value_counts(normalize=True).to_frame()"
   ]
  },
  {
   "cell_type": "code",
   "execution_count": 39,
   "id": "472d4b08",
   "metadata": {},
   "outputs": [
    {
     "data": {
      "text/plain": [
       "90759814933.68465"
      ]
     },
     "execution_count": 39,
     "metadata": {},
     "output_type": "execute_result"
    }
   ],
   "source": [
    "emissores = dados.loc[(dados.setor == 'Energia') & (dados.emissao) ]\n",
    "emissores.emissao.sum()"
   ]
  },
  {
   "cell_type": "code",
   "execution_count": 41,
   "id": "01b398c5",
   "metadata": {},
   "outputs": [
    {
     "data": {
      "text/plain": [
       "85495351343.15591"
      ]
     },
     "execution_count": 41,
     "metadata": {},
     "output_type": "execute_result"
    }
   ],
   "source": [
    "emissores = dados.loc[(dados.setor == 'Agropecuária') & (dados.emissao) ]\n",
    "emissores.emissao.sum()"
   ]
  },
  {
   "cell_type": "code",
   "execution_count": 42,
   "id": "93bb83e0",
   "metadata": {},
   "outputs": [
    {
     "data": {
      "text/plain": [
       "379303032343.635"
      ]
     },
     "execution_count": 42,
     "metadata": {},
     "output_type": "execute_result"
    }
   ],
   "source": [
    "emissores = dados.loc[(dados.setor == 'Mudança de Uso da Terra e Floresta') & (dados.emissao) ]\n",
    "emissores.emissao.sum()"
   ]
  },
  {
   "cell_type": "code",
   "execution_count": null,
   "id": "bc585e72",
   "metadata": {},
   "outputs": [],
   "source": []
  }
 ],
 "metadata": {
  "kernelspec": {
   "display_name": "Python 3 (ipykernel)",
   "language": "python",
   "name": "python3"
  },
  "language_info": {
   "codemirror_mode": {
    "name": "ipython",
    "version": 3
   },
   "file_extension": ".py",
   "mimetype": "text/x-python",
   "name": "python",
   "nbconvert_exporter": "python",
   "pygments_lexer": "ipython3",
   "version": "3.9.13"
  }
 },
 "nbformat": 4,
 "nbformat_minor": 5
}
