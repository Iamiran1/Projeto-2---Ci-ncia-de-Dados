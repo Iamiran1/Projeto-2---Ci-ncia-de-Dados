{
 "cells": [
  {
   "cell_type": "markdown",
   "id": "ee15c76a",
   "metadata": {},
   "source": [
    "# Projeto - Emissões de gases de efeito estufa no Brasil\n",
    "\n"
   ]
  },
  {
   "cell_type": "markdown",
   "id": "ba90a313",
   "metadata": {},
   "source": [
    "* Objetivo do Projeto: Responder a pergunta, Qual Atividade brasileira Econômica causa mais impacto no efeito estufa, seja ele a curto prazo ou a longo prazo, isto é, somando os danos causados por cada setor desde 1970 até 2018?\n",
    "\n"
   ]
  },
  {
   "cell_type": "markdown",
   "id": "74d12d6e",
   "metadata": {},
   "source": [
    " fonte: https://basedosdados.org"
   ]
  },
  {
   "cell_type": "code",
   "execution_count": 4,
   "id": "a947d175",
   "metadata": {},
   "outputs": [],
   "source": [
    "## Para instalar a base de dados: !pip install basedosdados \n",
    "\n",
    "\n",
    "\n",
    "import basedosdados as bd\n",
    "import pandas as pd\n",
    "import numpy as np\n",
    "from scipy.stats import norm, probplot\n",
    "import statsmodels.api as sm\n",
    "import matplotlib.pyplot as plt"
   ]
  },
  {
   "cell_type": "code",
   "execution_count": 5,
   "id": "5675f2f8",
   "metadata": {
    "scrolled": true
   },
   "outputs": [
    {
     "name": "stderr",
     "output_type": "stream",
     "text": [
      "Downloading: 100%|█████████████████████████████████████████████████████████| 454850/454850 [00:45<00:00, 9993.25rows/s]\n"
     ]
    }
   ],
   "source": [
    "\n",
    "# Para carregar o dado direto no pandas\n",
    "dados = bd.read_table(dataset_id='br_seeg_emissoes',\n",
    "table_id='brasil',\n",
    "billing_project_id=\"p2-cdados\")"
   ]
  },
  {
   "cell_type": "code",
   "execution_count": 6,
   "id": "8425256a",
   "metadata": {},
   "outputs": [
    {
     "data": {
      "text/html": [
       "<div>\n",
       "<style scoped>\n",
       "    .dataframe tbody tr th:only-of-type {\n",
       "        vertical-align: middle;\n",
       "    }\n",
       "\n",
       "    .dataframe tbody tr th {\n",
       "        vertical-align: top;\n",
       "    }\n",
       "\n",
       "    .dataframe thead th {\n",
       "        text-align: right;\n",
       "    }\n",
       "</style>\n",
       "<table border=\"1\" class=\"dataframe\">\n",
       "  <thead>\n",
       "    <tr style=\"text-align: right;\">\n",
       "      <th></th>\n",
       "      <th>ano</th>\n",
       "      <th>nivel_1</th>\n",
       "      <th>nivel_2</th>\n",
       "      <th>nivel_3</th>\n",
       "      <th>nivel_4</th>\n",
       "      <th>nivel_5</th>\n",
       "      <th>nivel_6</th>\n",
       "      <th>tipo_emissao</th>\n",
       "      <th>gas</th>\n",
       "      <th>atividade_economica</th>\n",
       "      <th>produto</th>\n",
       "      <th>emissao</th>\n",
       "    </tr>\n",
       "  </thead>\n",
       "  <tbody>\n",
       "    <tr>\n",
       "      <th>0</th>\n",
       "      <td>1970</td>\n",
       "      <td>Agropecuária</td>\n",
       "      <td>Cultivo do Arroz</td>\n",
       "      <td>Diretas</td>\n",
       "      <td>Outros</td>\n",
       "      <td>Vegetal</td>\n",
       "      <td>Arroz</td>\n",
       "      <td>Emissão</td>\n",
       "      <td>CH4 (t)</td>\n",
       "      <td>None</td>\n",
       "      <td>None</td>\n",
       "      <td>230462.17</td>\n",
       "    </tr>\n",
       "    <tr>\n",
       "      <th>1</th>\n",
       "      <td>1971</td>\n",
       "      <td>Agropecuária</td>\n",
       "      <td>Cultivo do Arroz</td>\n",
       "      <td>Diretas</td>\n",
       "      <td>Outros</td>\n",
       "      <td>Vegetal</td>\n",
       "      <td>Arroz</td>\n",
       "      <td>Emissão</td>\n",
       "      <td>CH4 (t)</td>\n",
       "      <td>None</td>\n",
       "      <td>None</td>\n",
       "      <td>226016.30</td>\n",
       "    </tr>\n",
       "    <tr>\n",
       "      <th>2</th>\n",
       "      <td>1972</td>\n",
       "      <td>Agropecuária</td>\n",
       "      <td>Cultivo do Arroz</td>\n",
       "      <td>Diretas</td>\n",
       "      <td>Outros</td>\n",
       "      <td>Vegetal</td>\n",
       "      <td>Arroz</td>\n",
       "      <td>Emissão</td>\n",
       "      <td>CH4 (t)</td>\n",
       "      <td>None</td>\n",
       "      <td>None</td>\n",
       "      <td>220101.20</td>\n",
       "    </tr>\n",
       "    <tr>\n",
       "      <th>3</th>\n",
       "      <td>1973</td>\n",
       "      <td>Agropecuária</td>\n",
       "      <td>Cultivo do Arroz</td>\n",
       "      <td>Diretas</td>\n",
       "      <td>Outros</td>\n",
       "      <td>Vegetal</td>\n",
       "      <td>Arroz</td>\n",
       "      <td>Emissão</td>\n",
       "      <td>CH4 (t)</td>\n",
       "      <td>None</td>\n",
       "      <td>None</td>\n",
       "      <td>214195.56</td>\n",
       "    </tr>\n",
       "    <tr>\n",
       "      <th>4</th>\n",
       "      <td>1974</td>\n",
       "      <td>Agropecuária</td>\n",
       "      <td>Cultivo do Arroz</td>\n",
       "      <td>Diretas</td>\n",
       "      <td>Outros</td>\n",
       "      <td>Vegetal</td>\n",
       "      <td>Arroz</td>\n",
       "      <td>Emissão</td>\n",
       "      <td>CH4 (t)</td>\n",
       "      <td>None</td>\n",
       "      <td>None</td>\n",
       "      <td>186862.84</td>\n",
       "    </tr>\n",
       "  </tbody>\n",
       "</table>\n",
       "</div>"
      ],
      "text/plain": [
       "    ano       nivel_1           nivel_2  nivel_3 nivel_4  nivel_5 nivel_6  \\\n",
       "0  1970  Agropecuária  Cultivo do Arroz  Diretas  Outros  Vegetal   Arroz   \n",
       "1  1971  Agropecuária  Cultivo do Arroz  Diretas  Outros  Vegetal   Arroz   \n",
       "2  1972  Agropecuária  Cultivo do Arroz  Diretas  Outros  Vegetal   Arroz   \n",
       "3  1973  Agropecuária  Cultivo do Arroz  Diretas  Outros  Vegetal   Arroz   \n",
       "4  1974  Agropecuária  Cultivo do Arroz  Diretas  Outros  Vegetal   Arroz   \n",
       "\n",
       "  tipo_emissao      gas atividade_economica produto    emissao  \n",
       "0      Emissão  CH4 (t)                None    None  230462.17  \n",
       "1      Emissão  CH4 (t)                None    None  226016.30  \n",
       "2      Emissão  CH4 (t)                None    None  220101.20  \n",
       "3      Emissão  CH4 (t)                None    None  214195.56  \n",
       "4      Emissão  CH4 (t)                None    None  186862.84  "
      ]
     },
     "execution_count": 6,
     "metadata": {},
     "output_type": "execute_result"
    }
   ],
   "source": [
    "dados.head()"
   ]
  },
  {
   "cell_type": "code",
   "execution_count": 7,
   "id": "6ee13f8e",
   "metadata": {},
   "outputs": [],
   "source": [
    "#Renomeando Variáveis\n",
    "dados = dados.rename(columns={'nivel_1': 'setor'})\n",
    "dados = dados.rename(columns={'nivel_2': 'processo_emissor'})\n",
    "dados = dados.rename(columns={'nivel_3': 'forma_emissao'})\n",
    "dados = dados.rename(columns={'nivel_4': 'processo_especifico'})\n",
    "dados = dados.rename(columns={'nivel_5': 'tipo_atividade'})\n",
    "dados = dados.rename(columns={'nivel_6': 'atividade_especifica'})"
   ]
  },
  {
   "cell_type": "code",
   "execution_count": 8,
   "id": "5e810362",
   "metadata": {},
   "outputs": [],
   "source": [
    "#Eliminando dados desnecessários\n"
   ]
  },
  {
   "cell_type": "code",
   "execution_count": 9,
   "id": "b6b44b53",
   "metadata": {},
   "outputs": [
    {
     "data": {
      "text/html": [
       "<div>\n",
       "<style scoped>\n",
       "    .dataframe tbody tr th:only-of-type {\n",
       "        vertical-align: middle;\n",
       "    }\n",
       "\n",
       "    .dataframe tbody tr th {\n",
       "        vertical-align: top;\n",
       "    }\n",
       "\n",
       "    .dataframe thead th {\n",
       "        text-align: right;\n",
       "    }\n",
       "</style>\n",
       "<table border=\"1\" class=\"dataframe\">\n",
       "  <thead>\n",
       "    <tr style=\"text-align: right;\">\n",
       "      <th></th>\n",
       "      <th>setor</th>\n",
       "    </tr>\n",
       "  </thead>\n",
       "  <tbody>\n",
       "    <tr>\n",
       "      <th>Energia</th>\n",
       "      <td>59.0</td>\n",
       "    </tr>\n",
       "    <tr>\n",
       "      <th>Mudança de Uso da Terra e Floresta</th>\n",
       "      <td>28.4</td>\n",
       "    </tr>\n",
       "    <tr>\n",
       "      <th>Agropecuária</th>\n",
       "      <td>7.2</td>\n",
       "    </tr>\n",
       "    <tr>\n",
       "      <th>Processos Industriais</th>\n",
       "      <td>4.1</td>\n",
       "    </tr>\n",
       "    <tr>\n",
       "      <th>Resíduos</th>\n",
       "      <td>1.3</td>\n",
       "    </tr>\n",
       "  </tbody>\n",
       "</table>\n",
       "</div>"
      ],
      "text/plain": [
       "                                    setor\n",
       "Energia                              59.0\n",
       "Mudança de Uso da Terra e Floresta   28.4\n",
       "Agropecuária                          7.2\n",
       "Processos Industriais                 4.1\n",
       "Resíduos                              1.3"
      ]
     },
     "execution_count": 9,
     "metadata": {},
     "output_type": "execute_result"
    }
   ],
   "source": [
    "dados.setor.value_counts(normalize=True).to_frame().round(3)*100 "
   ]
  },
  {
   "cell_type": "code",
   "execution_count": null,
   "id": "b8e16ee6",
   "metadata": {},
   "outputs": [],
   "source": [
    "dados.boxplot('emissao',by = 'setor',figsize=(15,5))\n",
    "plt.title('Maior  setor emissor de gases por ano de 1970 até 2018')"
   ]
  },
  {
   "cell_type": "code",
   "execution_count": null,
   "id": "473ab957",
   "metadata": {},
   "outputs": [],
   "source": []
  }
 ],
 "metadata": {
  "kernelspec": {
   "display_name": "Python 3 (ipykernel)",
   "language": "python",
   "name": "python3"
  },
  "language_info": {
   "codemirror_mode": {
    "name": "ipython",
    "version": 3
   },
   "file_extension": ".py",
   "mimetype": "text/x-python",
   "name": "python",
   "nbconvert_exporter": "python",
   "pygments_lexer": "ipython3",
   "version": "3.9.13"
  }
 },
 "nbformat": 4,
 "nbformat_minor": 5
}
